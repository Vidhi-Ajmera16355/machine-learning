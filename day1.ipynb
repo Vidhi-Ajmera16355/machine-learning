print("Hello 1st Year.")

Hello 1st Year.

import numpy as np
ar=np.array([1,2,3,4,5])
print(ar)
print(type(ar))

[1 2 3 4 5]
<class 'numpy.ndarray'>


import numpy as np
arr=np.array([[1,2,3,4,5],[6,7,8,9]])
print(arr)
print(type(arr))

[list([1, 2, 3, 4, 5]) list([6, 7, 8, 9])]
<class 'numpy.ndarray'>
<ipython-input-4-94415ce6187a>:2: VisibleDeprecationWarning: Creating an ndarray from ragged nested sequences (which is a list-or-tuple of lists-or-tuples-or ndarrays with different lengths or shapes) is deprecated. If you meant to do this, you must specify 'dtype=object' when creating the ndarray.
  arr=np.array([[1,2,3,4,5],[6,7,8,9]])

import numpy as np
a=np.array(42)
b=np.array([1,2,3,4])
c=np.array([[1,2,3],[4,5,6]])
d=np.array([[[1,2,3],[4,5,6,]],[[13,24,35],[23,45,67]]])
print(a.ndim)
print(b.ndim)
print(c.ndim)
print(d.ndim)

0
1
2
3



import numpy as np
arr=np.array([1,2,3,4],ndmin=5)
#parameters {ndmin}
print(arr)
print('number of dimensions:',arr.ndim)

[[[[[1 2 3 4]]]]]
number of dimensions: 5



import numpy as np 
arr=np.array([1,2,3,4,5,6,7])
print(arr[1:5])
print(arr[-3:-1])
print(arr[::2])
print(arr[4:])
print(arr[:4])
print(arr[1:5:2])


[2 3 4 5]
[5 6]
[1 3 5 7]
[5 6 7]
[1 2 3 4]
[2 4]


import numpy as np
arr=np.array([[1,2,3,4,5],[6,7,8,9,10]])
print(arr[1,1:4])
print(arr[0:2,2])
print(arr[0:2,1:4])
# arr[( which column or row ) , ( which data to be taken )  ]  { a:b,from :to }

[7 8 9]
[3 8]
[[2 3 4]
 [7 8 9]]



import numpy as np
arr=np.array ([1.1,2.1,3.1])
newarr= arr.astype('i')
print(newarr)
print(newarr.dtype)

[1 2 3]
int32



import numpy as np
a=np.array([[1,2,3],[4,5,6]])
print(a.shape)
print(a)
b=a.reshape(3,2)
print(b)
print(b.shape)

(2, 3)
[[1 2 3]
 [4 5 6]]
[[1 2]
 [3 4]
 [5 6]]
(3, 2)






import numpy as np 
a=np.arange(24)
print(a)
b=np.arange(24)
print(b.ndim)
# reshape
c=a.reshape (2,4,3)
# (dimension,row,col)
# c is having three dimensions
print(c)

[ 0  1  2  3  4  5  6  7  8  9 10 11 12 13 14 15 16 17 18 19 20 21 22 23]
1
[[[ 0  1  2]
  [ 3  4  5]
  [ 6  7  8]
  [ 9 10 11]]

 [[12 13 14]
  [15 16 17]
  [18 19 20]
  [21 22 23]]]





