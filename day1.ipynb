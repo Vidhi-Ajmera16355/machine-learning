print("Hello 1st Year.")

Hello 1st Year.

import numpy as np
ar=np.array([1,2,3,4,5])
print(ar)
print(type(ar))

[1 2 3 4 5]
<class 'numpy.ndarray'>


import numpy as np
arr=np.array([[1,2,3,4,5],[6,7,8,9]])
print(arr)
print(type(arr))

[list([1, 2, 3, 4, 5]) list([6, 7, 8, 9])]
<class 'numpy.ndarray'>
<ipython-input-4-94415ce6187a>:2: VisibleDeprecationWarning: Creating an ndarray from ragged nested sequences (which is a list-or-tuple of lists-or-tuples-or ndarrays with different lengths or shapes) is deprecated. If you meant to do this, you must specify 'dtype=object' when creating the ndarray.
  arr=np.array([[1,2,3,4,5],[6,7,8,9]])

import numpy as np
a=np.array(42)
b=np.array([1,2,3,4])
c=np.array([[1,2,3],[4,5,6]])
d=np.array([[[1,2,3],[4,5,6,]],[[13,24,35],[23,45,67]]])
print(a.ndim)
print(b.ndim)
print(c.ndim)
print(d.ndim)

0
1
2
3



import numpy as np
arr=np.array([1,2,3,4],ndmin=5)
#parameters {ndmin}
print(arr)
print('number of dimensions:',arr.ndim)

[[[[[1 2 3 4]]]]]
number of dimensions: 5



import numpy as np 
arr=np.array([1,2,3,4,5,6,7])
print(arr[1:5])
print(arr[-3:-1])
print(arr[::2])
print(arr[4:])
print(arr[:4])
print(arr[1:5:2])


[2 3 4 5]
[5 6]
[1 3 5 7]
[5 6 7]
[1 2 3 4]
[2 4]


import numpy as np
arr=np.array([[1,2,3,4,5],[6,7,8,9,10]])
print(arr[1,1:4])
print(arr[0:2,2])
print(arr[0:2,1:4])
# arr[( which column or row ) , ( which data to be taken )  ]  { a:b,from :to }

[7 8 9]
[3 8]
[[2 3 4]
 [7 8 9]]



import numpy as np
arr=np.array ([1.1,2.1,3.1])
newarr= arr.astype('i')
print(newarr)
print(newarr.dtype)

[1 2 3]
int32



import numpy as np
a=np.array([[1,2,3],[4,5,6]])
print(a.shape)
print(a)
b=a.reshape(3,2)
print(b)
print(b.shape)

(2, 3)
[[1 2 3]
 [4 5 6]]
[[1 2]
 [3 4]
 [5 6]]
(3, 2)






import numpy as np 
a=np.arange(24)
print(a)
b=np.arange(24)
print(b.ndim)
# reshape
c=a.reshape (2,4,3)
# (dimension,row,col)
# c is having three dimensions
print(c)

[ 0  1  2  3  4  5  6  7  8  9 10 11 12 13 14 15 16 17 18 19 20 21 22 23]
1
[[[ 0  1  2]
  [ 3  4  5]
  [ 6  7  8]
  [ 9 10 11]]

 [[12 13 14]
  [15 16 17]
  [18 19 20]
  [21 22 23]]]




import numpy as np
x=np.array([1,2,3,4,5],dtype=np.int8)
print(x.itemsize)
y=np.array([1,2,3,4,5],dtype= np.float32)
print (y.itemsize)
# 1->8 bits 
# 8/8=1
# int 16
# 16/8 =2
# int 32
# 32/8=4

1
4



import numpy as np
x=np.array([1,2,3,4,5])
print (x.flags)

C_CONTIGUOUS : True
  F_CONTIGUOUS : True
  OWNDATA : True
  WRITEABLE : True
  ALIGNED : True
  WRITEBACKIFCOPY : False
  UPDATEIFCOPY : False





import numpy as np
x=np.array([[1,2],[3,4],[5,6]])
y=x[[0,1,2],[0,1,0]]
print(y)

[1 4 5]







import numpy as np
x=np.array ([[0,1,2],[3,4,5],[6,7,8],[9,10,11]])
print('Our array is:',x)
rows = np.array ([[0,0],[3,3]])
cols = np.array([[0,2],[0,2]])
y=x[rows,cols]
print(y)


Our array is: [[ 0  1  2]
 [ 3  4  5]
 [ 6  7  8]
 [ 9 10 11]]
[[ 0  2]
 [ 9 11]]





import numpy as np
a=np.array([[3,7],[9,1]])
print('Our array is :',a)
print(np.sort(a))
print(np.sort(a,axis=0))
dt= np.dtype([('name','S10'),('age',int)])
a=np.array ([("raju",21),("anil",25),("ravi",17),("amar",27)], dtype = dt)
print("Our array is:",a)
print (np.sort (a,order ='name'))


Our array is : [[3 7]
 [9 1]]
[[3 7]
 [1 9]]
[[3 1]
 [9 7]]
Our array is: [(b'raju', 21) (b'anil', 25) (b'ravi', 17) (b'amar', 27)]
[(b'amar', 27) (b'anil', 25) (b'raju', 21) (b'ravi', 17)]










